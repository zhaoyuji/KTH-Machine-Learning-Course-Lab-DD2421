{
 "cells": [
  {
   "cell_type": "markdown",
   "metadata": {},
   "source": [
    "# Lab1 - Decision Tree"
   ]
  },
  {
   "cell_type": "markdown",
   "metadata": {},
   "source": [
    "In this lab we are required to use a set of predefined Python functions to build and manipulate decision trees."
   ]
  },
  {
   "cell_type": "code",
   "execution_count": 1,
   "metadata": {},
   "outputs": [],
   "source": [
    "# import packages and data loading\n",
    "import monkdata as m\n",
    "import drawtree_qt5 as dt\n",
    "from dtree import entropy, averageGain\n",
    "import dtree as d\n",
    "import numpy as np\n",
    "from prettytable import PrettyTable\n",
    "import random\n",
    "import matplotlib.pyplot as plt\n",
    "\n",
    "train1 = m.monk1\n",
    "test1 = m.monk1test\n",
    "train2 = m.monk2\n",
    "test2 = m.monk2test\n",
    "train3 = m.monk3\n",
    "test3 = m.monk3test"
   ]
  },
  {
   "cell_type": "markdown",
   "metadata": {},
   "source": [
    "## 2. MONK datasets\n",
    "\n",
    "\n",
    "### Assignment 0: \n",
    "\n",
    "    Each one of the datasets has properties which makes them hard to learn. Motivate which of the three problems is most difficult for a decision tree algorithm to learn. \n",
    "  \n",
    "**Answer 0**  \n",
    "MONK-2 is hardest for a decision tree algorithm to learn.   \n",
    "1. For dataset 1(MONK-1), there are only three atrributes $\\{A1, A2, A5\\}$ which influence the final results, which means we only need a tree with depth equal to 3 then we could classify all samples. \n",
    "2. For dataset 2(MONK-2), all atrributes are involved. Thus we need a more complicated tree with depth equal to 6 to classify all samples.\n",
    "3. For dataset 3(MONK-3), it is also a little hard because it has 5% additional noise (misclassification) and it has the least training data. But fortunately, only three atrributes are involved so the tree won't be too deep."
   ]
  },
  {
   "cell_type": "markdown",
   "metadata": {},
   "source": [
    "## 3. Entropy\n",
    "\n",
    "### Assignment 1: \n",
    "\n",
    "    The file dtree.py defines a function entropy which calculates the entropy of a dataset. Import this file along with the monks datasets and use it to calculate the entropy of the training datasets."
   ]
  },
  {
   "cell_type": "code",
   "execution_count": 2,
   "metadata": {},
   "outputs": [
    {
     "name": "stdout",
     "output_type": "stream",
     "text": [
      "Entropy of training set 1: 1.0\n",
      "Entropy of training set 2: 0.957117428264771\n",
      "Entropy of training set 3: 0.9998061328047111\n"
     ]
    }
   ],
   "source": [
    "def assign1():\n",
    "    entropy1 = entropy(train1)\n",
    "    print(\"Entropy of training set 1: {}\".format(entropy1))\n",
    "    entropy2 = entropy(train2)\n",
    "    print(\"Entropy of training set 2: {}\".format(entropy2))\n",
    "    entropy3 = entropy(train3)\n",
    "    print(\"Entropy of training set 3: {}\".format(entropy3))\n",
    "    \n",
    "assign1()"
   ]
  },
  {
   "cell_type": "markdown",
   "metadata": {},
   "source": [
    "### Assignment 2: \n",
    "    Explain entropy for a uniform distribution and a non-uniform distribution, present some example distributions with high and low entropy.\n",
    "    \n",
    "**Answer 2**  \n",
    "1. The entropy for a uniform distribution is high. More Specifically, it is equal to $log_2 N$, where $N$ is the sample size. \n",
    "2. The entropy for a non-uniform distribution is low.\n",
    "3. Examples:\n",
    "    * High entropy: Tossing a fair coin or rolling a die.\n",
    "    * Low entropy: Tossing a unfair coin or rolling a fake die."
   ]
  },
  {
   "cell_type": "markdown",
   "metadata": {},
   "source": [
    "## 4. Information Gain\n",
    "\n",
    "### Assignment 3: \n",
    "    Use the function averageGain (defined in dtree.py) to calculate the expected information gain corresponding to each of the six attributes. Note that the attributes are represented as in- stances of the class Attribute (defined in monkdata.py) which you can access via m.attributes[0], ..., m.attributes[5]. Based on the results, which attribute should be used for splitting the examples at the root node?"
   ]
  },
  {
   "cell_type": "code",
   "execution_count": 3,
   "metadata": {},
   "outputs": [
    {
     "name": "stdout",
     "output_type": "stream",
     "text": [
      "                         Information Gain                           \n",
      "+---------+---------+---------+---------+---------+---------+---------+\n",
      "| Dataset |    A1   |    A2   |    A3   |    A4   |    A5   |    A6   |\n",
      "+---------+---------+---------+---------+---------+---------+---------+\n",
      "|  MONK1  | 0.07527 | 0.00584 | 0.00471 | 0.02631 | 0.28703 | 0.00076 |\n",
      "|  MONK2  | 0.00376 | 0.00246 | 0.00106 | 0.01566 | 0.01728 | 0.00625 |\n",
      "|  MONK3  | 0.00712 | 0.29374 | 0.00083 | 0.00289 | 0.25591 | 0.00708 |\n",
      "+---------+---------+---------+---------+---------+---------+---------+\n"
     ]
    }
   ],
   "source": [
    "def assign3():\n",
    "    names = globals()\n",
    "    print(\"                         Information Gain                           \")\n",
    "    table = PrettyTable(['Dataset', 'A1', 'A2', 'A3', 'A4', 'A5', 'A6'])\n",
    "    for j in range(1,4):\n",
    "        trainset =  names.get('train' + str(j))\n",
    "        nums = []\n",
    "        for i in range(len(m.attributes)):\n",
    "            nums.append(round(averageGain(trainset, m.attributes[i]),5))\n",
    "        table.add_row(np.concatenate(([\"MONK\" + str(j)], nums), axis=0))\n",
    "    print(table)\n",
    "assign3()\n",
    "\n",
    "\n"
   ]
  },
  {
   "cell_type": "markdown",
   "metadata": {},
   "source": [
    "Based on the above result regarding information gain, the attribute $A5$ performs well on training sets MONK-1 and MONK-2 while the attribute $A2$ is best for training sets MONK-3, because they all have maximum information gain."
   ]
  },
  {
   "cell_type": "markdown",
   "metadata": {},
   "source": [
    "### Assignment 4:\n",
    "    For splitting we choose the attribute that maximizes the information gain, Eq.3. Looking at Eq.3 how does the entropy of the subsets, Sk, look like when the information gain is maximized? How can we motivate using the information gain as a heuristic for picking an attribute for splitting? Think about reduction in entropy after the split and what the entropy implies.\n",
    "    \n",
    "    \n",
    "**Answer 4**\n",
    "\n",
    "1. The entropy of the subsets $S_k$ is decreasing when the information gain is maximized. Since the uncertainty of the subset decreses when we obtain more information. \n",
    "\n",
    "2. When we maximize the information gain then we can select an attribute for splitting to decrease the uncertainty in the subsets the most, which means that the newly create subsets have a lower entropy. Then the dataset becomes more non-uniform and concentrated, which means it is more certain about the classification task.\n"
   ]
  },
  {
   "cell_type": "markdown",
   "metadata": {},
   "source": [
    "\n",
    "## 5. Building Decision Trees\n"
   ]
  },
  {
   "cell_type": "markdown",
   "metadata": {},
   "source": [
    "Split the monk1 data into subsets according to the selected attribute using the function select (again, defined in dtree.py) and compute the information gains for the nodes on the next level of the tree. Which attributes should be tested for these nodes?"
   ]
  },
  {
   "cell_type": "code",
   "execution_count": 4,
   "metadata": {},
   "outputs": [],
   "source": [
    "attr = m.attributes[4]"
   ]
  },
  {
   "cell_type": "code",
   "execution_count": 5,
   "metadata": {},
   "outputs": [],
   "source": [
    "dataset1 = d.select(train1, attr, 1)\n",
    "dataset2 = d.select(train1, attr, 2)\n",
    "dataset3 = d.select(train1, attr, 3)\n",
    "dataset4 = d.select(train1, attr, 4)"
   ]
  },
  {
   "cell_type": "code",
   "execution_count": 6,
   "metadata": {},
   "outputs": [
    {
     "name": "stdout",
     "output_type": "stream",
     "text": [
      "                         Information Gain                           \n",
      "+----------+---------+---------+---------+---------+-----+---------+\n",
      "| Dataset  |    A1   |    A2   |    A3   |    A4   |  A5 |    A6   |\n",
      "+----------+---------+---------+---------+---------+-----+---------+\n",
      "| dataset1 |   0.0   |   0.0   |   0.0   |   0.0   | 0.0 |   0.0   |\n",
      "| dataset2 | 0.04022 | 0.01506 | 0.03727 | 0.04889 | 0.0 | 0.02581 |\n",
      "| dataset3 | 0.03306 |  0.0022 | 0.01798 | 0.01912 | 0.0 | 0.04511 |\n",
      "| dataset4 | 0.20629 |  0.0339 | 0.02591 | 0.07593 | 0.0 | 0.00332 |\n",
      "+----------+---------+---------+---------+---------+-----+---------+\n"
     ]
    }
   ],
   "source": [
    "names = globals()\n",
    "print(\"                         Information Gain                           \")\n",
    "table = PrettyTable(['Dataset', 'A1', 'A2', 'A3', 'A4', 'A5', 'A6'])\n",
    "for j in range(1,5):\n",
    "    trainset =  names.get('dataset' + str(j))\n",
    "    nums = []\n",
    "    for i in range(len(m.attributes)):\n",
    "        nums.append(round(averageGain(trainset, m.attributes[i]),5))\n",
    "    table.add_row(np.concatenate(([\"dataset\" + str(j)], nums), axis=0))\n",
    "print(table)"
   ]
  },
  {
   "cell_type": "markdown",
   "metadata": {},
   "source": [
    "* For A5 == 1: The dataset is pure, you don't need to test any attributes\n",
    "* For A5 == 2: attribute A4 should be tested \n",
    "* For A5 == 3: attribute A6 should be tested \n",
    "* For A5 == 4: attribute A1 should be tested "
   ]
  },
  {
   "cell_type": "code",
   "execution_count": 7,
   "metadata": {},
   "outputs": [
    {
     "name": "stdout",
     "output_type": "stream",
     "text": [
      "--- A5 == 1:\n",
      "True\n",
      "\n",
      "\n",
      "--- A5 == 2:\n",
      "\n",
      "A4 == 1:\n",
      "False\n",
      "A4 == 2:\n",
      "False\n",
      "A4 == 3:\n",
      "False\n",
      "\n",
      "\n",
      "--- A5 == 3:\n",
      "\n",
      "A6 == 1:\n",
      "False\n",
      "A6 == 2:\n",
      "False\n",
      "\n",
      "--- A5 == 4:\n",
      "\n",
      "A1 == 1:\n",
      "False\n",
      "A1 == 2:\n",
      "False\n",
      "A1 == 3:\n",
      "True\n",
      "\n",
      "\n"
     ]
    }
   ],
   "source": [
    "# dataset 1 is pure\n",
    "print(\"--- A5 == 1:\")\n",
    "print(d.mostCommon(dataset1))\n",
    "print()\n",
    "print()\n",
    "\n",
    "# dataset2: attribute 4\n",
    "print(\"--- A5 == 2:\")\n",
    "print()\n",
    "attr = m.attributes[3]\n",
    "print(\"{} == 1:\".format(attr))\n",
    "print(d.mostCommon(d.select(dataset2, attr, 1)))\n",
    "print(\"{} == 2:\".format(attr))\n",
    "print(d.mostCommon(d.select(dataset2, attr, 2)))\n",
    "print(\"{} == 3:\".format(attr))\n",
    "print(d.mostCommon(d.select(dataset2, attr, 3)))\n",
    "print()\n",
    "print()\n",
    "\n",
    "# dataset3: attribute 6\n",
    "print(\"--- A5 == 3:\")\n",
    "print()\n",
    "attr = m.attributes[5]\n",
    "print(\"{} == 1:\".format(attr))\n",
    "print(d.mostCommon(d.select(dataset3, attr, 1)))\n",
    "print(\"{} == 2:\".format(attr))\n",
    "print(d.mostCommon(d.select(dataset3, attr, 2)))\n",
    "print()\n",
    "\n",
    "# dataset4: attribute 1\n",
    "print(\"--- A5 == 4:\")\n",
    "print()\n",
    "attr = m.attributes[0]\n",
    "print(\"{} == 1:\".format(attr))\n",
    "print(d.mostCommon(d.select(dataset4, attr, 1)))\n",
    "print(\"{} == 2:\".format(attr))\n",
    "print(d.mostCommon(d.select(dataset4, attr, 2)))\n",
    "print(\"{} == 3:\".format(attr))\n",
    "print(d.mostCommon(d.select(dataset4, attr, 3)))\n",
    "print()\n",
    "print()\n",
    "\n",
    "\n",
    "#t1 = d.buildTree(train1, m.attributes, maxdepth=2)\n",
    "#dt.drawTree(t1)\n"
   ]
  },
  {
   "cell_type": "markdown",
   "metadata": {},
   "source": [
    "The result of a predefined routine for ID3 is shown as a picture below. We can see that the result is consistent with the manually generated result.\n",
    "\n",
    "![img](../img/dtree1.png)"
   ]
  },
  {
   "cell_type": "markdown",
   "metadata": {},
   "source": [
    "### Assignment 5: \n",
    "    Build the full decision trees for all three Monk datasets using buildTree. Then, use the function check to mea- sure the performance of the decision tree on both the training and test datasets.\n",
    "    Compute the train and test set errors for the three Monk datasets for the full trees. Were your assumptions about the datasets correct? Explain the results you get for the training and test datasets."
   ]
  },
  {
   "cell_type": "code",
   "execution_count": 8,
   "metadata": {},
   "outputs": [
    {
     "ename": "SystemExit",
     "evalue": "0",
     "output_type": "error",
     "traceback": [
      "An exception has occurred, use %tb to see the full traceback.\n",
      "\u001b[0;31mSystemExit\u001b[0m\u001b[0;31m:\u001b[0m 0\n"
     ]
    },
    {
     "name": "stderr",
     "output_type": "stream",
     "text": [
      "/Users/zyj/Library/Python/3.6/lib/python/site-packages/IPython/core/interactiveshell.py:3275: UserWarning: To exit: use 'exit', 'quit', or Ctrl-D.\n",
      "  warn(\"To exit: use 'exit', 'quit', or Ctrl-D.\", stacklevel=1)\n"
     ]
    }
   ],
   "source": [
    "def assign5():\n",
    "    \n",
    "    names = globals() \n",
    "    table = PrettyTable(['Dataset', 'E-train', 'E-test'])\n",
    "    for j in range(1,4):\n",
    "        trainset = names.get('train' + str(j))\n",
    "        testset = names.get('test' + str(j))\n",
    "        t = d.buildTree(trainset, m.attributes)\n",
    "        table.add_row(np.concatenate(([\"MONK\" + str(j)], [round(1-d.check(t, trainset),5), round(1-d.check(t, testset),5)]), axis=0))\n",
    "    print(table)\n",
    "        \n",
    "#'''\n",
    "t1 = d.buildTree(train1, m.attributes)\n",
    "t2 = d.buildTree(train2, m.attributes)\n",
    "t3 = d.buildTree(train3, m.attributes)\n",
    "dt.drawTree(t1)\n",
    "#dt.drawTree(t2)\n",
    "#dt.drawTree(t3)\n",
    "#'''\n",
    "#assign5()"
   ]
  },
  {
   "cell_type": "markdown",
   "metadata": {},
   "source": [
    "## 6. Pruning\n",
    "\n",
    "### Assignment 6:\n",
    "\n",
    "    Explain pruning from a bias variance trade-off perspective.\n",
    "    \n",
    "**Answer 6**:\n",
    "\n",
    "Variance refers to the amount by which the decision tree would change if we estimated it using a different training data set while bias refers to the error that is introduced by approximating a real-life problem. Decision trees always have a higher variance since the models are over-complex and overfitting due to growing a full tree which fits for all rules. Therefore, pruning the tree can increase the bias and reduce the variance."
   ]
  },
  {
   "cell_type": "markdown",
   "metadata": {},
   "source": [
    "### Assignment 7: \n",
    "    Evaluate the effect pruning has on the test error for the monk1 and monk3 datasets, in particular determine the optimal partition into training and pruning by optimizing the parameter fraction. Plot the classification error on the test sets as a function of the parameter \n",
    "$$fraction \\in \\{0.3, 0.4, 0.5, 0.6, 0.7, 0.8\\}$$\n",
    "\n",
    "    Note that the split of the data is random. We therefore need to compute the statistics over several runs of the split to be able to draw any conclusions. Reasonable statistics includes mean and a measure of the spread. Do remember to print axes labels, legends and data points as you will not pass without them."
   ]
  },
  {
   "cell_type": "code",
   "execution_count": 11,
   "metadata": {},
   "outputs": [
    {
     "name": "stdout",
     "output_type": "stream",
     "text": [
      "+--------------+---------+---------+---------+---------+---------+---------+\n",
      "|   Dataset    |   0.3   |   0.4   |   0.5   |   0.6   |   0.7   |   0.8   |\n",
      "+--------------+---------+---------+---------+---------+---------+---------+\n",
      "| MONK1 - MEAN | 0.23271 | 0.20919 |  0.1778 | 0.16275 | 0.14012 | 0.13569 |\n",
      "| MONK3 - MEAN | 0.09171 | 0.07403 | 0.06125 | 0.05586 |  0.0525 | 0.05764 |\n",
      "| MONK1 - STD  | 0.04368 | 0.04316 | 0.04548 | 0.04983 | 0.05431 | 0.04554 |\n",
      "| MONK3 - STD  | 0.06093 | 0.04551 | 0.03749 | 0.03318 | 0.02465 | 0.02791 |\n",
      "+--------------+---------+---------+---------+---------+---------+---------+\n"
     ]
    },
    {
     "data": {
      "image/png": "[encoded data removed]",
      "text/plain": [
       "<Figure size 432x288 with 1 Axes>"
      ]
     },
     "metadata": {
      "needs_background": "light"
     },
     "output_type": "display_data"
    },
    {
     "data": {
      "image/png": "[encoded data removed]",
      "text/plain": [
       "<Figure size 432x288 with 1 Axes>"
      ]
     },
     "metadata": {
      "needs_background": "light"
     },
     "output_type": "display_data"
    }
   ],
   "source": [
    "def partition(data, fraction):\n",
    "    ldata = list(data)\n",
    "    random.shuffle(ldata)\n",
    "    breakPoint = int(len(ldata) * fraction)\n",
    "    return ldata[:breakPoint], ldata[breakPoint:]\n",
    "\n",
    "def pruned_error(data, test):\n",
    "    fractions = [0.3, 0.4, 0.5, 0.6, 0.7, 0.8]\n",
    "    pruned_trees_error = []\n",
    "\n",
    "    for fraction in fractions:\n",
    "        train, val = partition(data, fraction)\n",
    "        tree = d.buildTree(train, m.attributes)\n",
    "        ptrees = d.allPruned(tree)\n",
    "        \n",
    "        best_acc = d.check(tree, val)\n",
    "        best_tree = tree\n",
    "\n",
    "        for t in ptrees:\n",
    "            temp_acc = d.check(t, val)\n",
    "            if best_acc < temp_acc:\n",
    "                best_acc = temp_acc\n",
    "                best_tree = t\n",
    "        pruned_trees_error.append(round(1 - d.check(best_tree, test),5))\n",
    "\n",
    "    return pruned_trees_error\n",
    "\n",
    "\n",
    "def assign7():\n",
    "    epoch = 100\n",
    "    \n",
    "    monk1_pruned =  np.transpose([pruned_error(train1, test1) for i in range(epoch)])\n",
    "    monk3_pruned =  np.transpose([pruned_error(train3, test3) for i in range(epoch)])\n",
    "\n",
    "\n",
    "    mean1 = np.around(np.mean(monk1_pruned, axis=1), decimals=5)\n",
    "    mean3 = np.around(np.mean(monk3_pruned, axis=1), decimals=5)\n",
    "    std1 = np.around(np.std(monk1_pruned, axis=1), decimals=5)\n",
    "    std3 = np.around(np.std(monk3_pruned, axis=1), decimals=5)\n",
    "\n",
    "    table = PrettyTable(['Dataset', '0.3', '0.4', '0.5', '0.6', '0.7', '0.8'])\n",
    "    table.add_row(np.concatenate((['MONK1 - MEAN'], mean1), axis=0))\n",
    "    table.add_row(np.concatenate((['MONK3 - MEAN'], mean3), axis=0))\n",
    "    table.add_row(np.concatenate((['MONK1 - STD'], std1), axis=0))\n",
    "    table.add_row(np.concatenate((['MONK3 - STD'], std3), axis=0))\n",
    "    print(table)\n",
    "\n",
    "    fractions = [0.3, 0.4, 0.5, 0.6, 0.7, 0.8]\n",
    "\n",
    "    plt.figure()\n",
    "    plt.title('Mean of Errors - {} runs'.format(epoch))\n",
    "    plt.xlabel('Fractions')\n",
    "    plt.ylabel('Mean')\n",
    "    line1, = plt.plot(fractions, mean1, label=\"MONK1\")\n",
    "    line3, = plt.plot(fractions, mean3, label=\"MONK3\")\n",
    "    plt.legend()\n",
    "    plt.show()    \n",
    "    \n",
    "    plt.title('STD of Errors - {} runs'.format(epoch))\n",
    "    plt.xlabel('Fractions')\n",
    "    plt.ylabel('STD')\n",
    "    line1, = plt.plot(fractions, std1, label=\"MONK1\")\n",
    "    line3, = plt.plot(fractions, std3, label=\"MONK3\")\n",
    "    plt.legend()\n",
    "    \n",
    "    plt.show()    \n",
    "\n",
    "assign7()"
   ]
  },
  {
   "cell_type": "markdown",
   "metadata": {},
   "source": [
    "**Answer:**\n",
    "\n",
    "The mean error for MONK1 reaches its lowest point with a partition at 0.8 while The mean error for MONK3 reaches its lowest point with a partition at 0.7. Besides, compared to the errors of full trees, we could see the effect pruning has on the test errors for the two datasets. Pruned tree is less complicated and it could reduce the model's variance. At the same time, more training data resulting from higher fraction could reduce the model' bias. As the two parts work together and reach a balance, the model operates better.\n"
   ]
  },
  {
   "cell_type": "code",
   "execution_count": null,
   "metadata": {},
   "outputs": [],
   "source": []
  }
 ],
 "metadata": {
  "kernelspec": {
   "display_name": "Python 3",
   "language": "python",
   "name": "python3"
  },
  "language_info": {
   "codemirror_mode": {
    "name": "ipython",
    "version": 3
   },
   "file_extension": ".py",
   "mimetype": "text/x-python",
   "name": "python",
   "nbconvert_exporter": "python",
   "pygments_lexer": "ipython3",
   "version": "3.6.5"
  }
 },
 "nbformat": 4,
 "nbformat_minor": 2
}
